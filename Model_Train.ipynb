{
  "nbformat": 4,
  "nbformat_minor": 0,
  "metadata": {
    "colab": {
      "name": "Untitled3.ipynb",
      "provenance": [],
      "collapsed_sections": [],
      "toc_visible": true
    },
    "kernelspec": {
      "name": "python3",
      "display_name": "Python 3"
    },
    "accelerator": "GPU"
  },
  "cells": [
    {
      "cell_type": "markdown",
      "metadata": {
        "id": "cI_Dn0NHMHgk"
      },
      "source": [
        "# Mount Drive"
      ]
    },
    {
      "cell_type": "code",
      "metadata": {
        "id": "XzB-yoG08oXH",
        "colab": {
          "base_uri": "https://localhost:8080/"
        },
        "outputId": "36593d83-ce0f-4638-c97e-fded40775304"
      },
      "source": [
        "from google.colab import drive\n",
        "drive.mount('/content/drive')"
      ],
      "execution_count": null,
      "outputs": [
        {
          "output_type": "stream",
          "text": [
            "Drive already mounted at /content/drive; to attempt to forcibly remount, call drive.mount(\"/content/drive\", force_remount=True).\n"
          ],
          "name": "stdout"
        }
      ]
    },
    {
      "cell_type": "markdown",
      "metadata": {
        "id": "JMcfJ6m5Ms0R"
      },
      "source": [
        "# ResNet Model "
      ]
    },
    {
      "cell_type": "code",
      "metadata": {
        "id": "b8DhPgp9Mu_T",
        "colab": {
          "base_uri": "https://localhost:8080/"
        },
        "outputId": "c6114a03-9352-4932-8c16-285d9fcb36fd"
      },
      "source": [
        "import keras\n",
        "import keras.utils\n",
        "import time\n",
        "from   keras import utils as np_utils\n",
        "import tensorflow.compat.v1 as tf\n",
        "from keras.models import Sequential\n",
        "from keras.layers import Dense\n",
        "from keras.applications.vgg16 import VGG16\n",
        "from keras.applications.resnet50 import ResNet50\n",
        "from keras.models import Model\n",
        "from keras.preprocessing import image\n",
        "from keras.layers import GlobalAveragePooling2D, Dense, Dropout,Activation,Flatten\n",
        "import os\n",
        "import cv2\n",
        "import numpy as np\n",
        "from sklearn.model_selection import train_test_split\n",
        "from keras.layers import Conv1D,MaxPooling2D,Flatten,Dense,Dropout,InputLayer\n",
        "from tqdm import tqdm\n",
        "import random\n",
        "import datetime\n",
        "import pandas as pd\n",
        "from keras.models import load_model\n",
        "\n",
        "def LoadData():\n",
        " \n",
        "  counters = [0,0,0,0,0,0,0,0,0,0,0,0]\n",
        "  path='/content/drive/My Drive/newdata/datasetall'\n",
        "  X = []\n",
        "  Y = []\n",
        "  Names = []\n",
        "  for image in tqdm(os.listdir(path)):\n",
        "    image_path = os.path.join(path,image)\n",
        "    img = cv2.imread(image_path)\n",
        "    sizeNew = 224,224 \n",
        "    resized = cv2.resize(img,sizeNew)\n",
        "    if 'AN' in image :\n",
        "     Y.append(0)\n",
        "     counters[0] += 1\n",
        "    elif 'CN' in image :\n",
        "      Y.append(1)\n",
        "      counters[1] += 1\n",
        "    elif 'SN' in image :\n",
        "      Y.append(2)\n",
        "      counters[2] += 1\n",
        "    elif 'AG' in image :\n",
        "      Y.append(3)\n",
        "      counters[3] += 1\n",
        "    elif 'CG' in image :\n",
        "      Y.append(4)\n",
        "      counters[4] += 1\n",
        "    elif 'SG' in image :\n",
        "      Y.append(5)\n",
        "      counters[5] += 1\n",
        "    elif 'AM' in image :\n",
        "      Y.append(6)\n",
        "      counters[6] += 1\n",
        "    elif 'CM' in image :\n",
        "      Y.append(7)\n",
        "      counters[7] += 1\n",
        "    elif 'SM' in image :\n",
        "      Y.append(8)\n",
        "      counters[8] += 1\n",
        "    elif 'AP' in image :\n",
        "      Y.append(9)\n",
        "      counters[9] += 1\n",
        "    elif 'CP' in image :\n",
        "      Y.append(10)\n",
        "      counters[10] += 1\n",
        "    elif 'SP' in image :\n",
        "      Y.append(11)\n",
        "      counters[11] += 1\n",
        "    X.append(np.array(resized))  \n",
        "    Names.append(image)\n",
        "  return X,Y,Names    \n",
        "\n",
        "def rotate_image(image, angle):\n",
        "  image_center = tuple(np.array(image.shape[1::-1]) / 2)\n",
        "  rot_mat = cv2.getRotationMatrix2D(image_center, angle, 1.0)\n",
        "  result = cv2.warpAffine(image, rot_mat, image.shape[1::-1], flags=cv2.INTER_LINEAR)\n",
        "  return result\n",
        "\n",
        "\n",
        "def fill(img):\n",
        "    img = cv2.resize(img, (224 , 224), cv2.INTER_CUBIC)\n",
        "    return img\n",
        "\n",
        "\n",
        "def zoom(img, value= 0.5):\n",
        "    if value > 1 or value < 0:\n",
        "        print('Value for zoom should be less than 1 and greater than 0')\n",
        "        return img\n",
        "    value = random.uniform(value, 1)\n",
        "    h, w = img.shape[:2]\n",
        "    h_taken = int(value*h)\n",
        "    w_taken = int(value*w)\n",
        "    h_start = random.randint(0, h-h_taken)\n",
        "    w_start = random.randint(0, w-w_taken)\n",
        "    img = img[h_start:h_start+h_taken, w_start:w_start+w_taken, :]\n",
        "    img = fill(img)\n",
        "    return img\n",
        "\n",
        "def ResnetFunc (loopnum):\n",
        "  Xx,Yx,Nn=LoadData()\n",
        "  X = np.array(Xx)\n",
        "  Y = np.array(Yx)\n",
        "  N = np.array(Nn)\n",
        "\n",
        "  X_train, X_Test, Y_train, Y_Test , N_train , N_test = train_test_split(X, Y,N,test_size=0.33, random_state=0,shuffle=True)\n",
        "\n",
        "  \n",
        "  X_train = np.array(X_train)\n",
        "  Y_train = np.array(Y_train)\n",
        "\n",
        "  X_Test = np.array(X_Test)\n",
        "  Y_Test = np.array(Y_Test)\n",
        "  \n",
        "  N_test = np.array(N_test)\n",
        "  \n",
        "  input_shape = (224, 224, 3)\n",
        "  \n",
        "  \n",
        "  iterator = 0 \n",
        "  augmantedX = []\n",
        "  augmantedY = []\n",
        "  for g in Y_train :\n",
        "    if g >= 6 :\n",
        "      newimg = rotate_image(X_train[iterator],30)\n",
        "      augmantedX.append(np.array(newimg))  \n",
        "      augmantedY.append(g)\n",
        "      if g == 11 :\n",
        "        newimg = zoom(X_train[iterator],0.88)\n",
        "        augmantedX.append(np.array(newimg))  \n",
        "        augmantedY.append(g)\n",
        "        newimg = rotate_image(newimg,330)\n",
        "        augmantedX.append(np.array(newimg))  \n",
        "        augmantedY.append(g)\n",
        "        \n",
        "\n",
        "    iterator+=1 \n",
        " \n",
        "  s = np.concatenate((X_train ,augmantedX ), axis = 0)\n",
        "  ss = np.concatenate((Y_train ,augmantedY ), axis = 0)\n",
        "  X_train = s\n",
        "  Y_train = ss\n",
        "  X_train = np.array(X_train)\n",
        "  Y_train = np.array(Y_train)\n",
        "  \n",
        "  ResnetModel = ResNet50(weights='imagenet',include_top=False,input_shape=input_shape)\n",
        "\n",
        "  Last_layer=ResnetModel.layers[-1].output\n",
        "\n",
        "  layer_output=keras.layers.Flatten()(Last_layer)\n",
        "  \n",
        "  ResnetModel=Model(ResnetModel.input,layer_output)\n",
        "  \n",
        "  model=Sequential()\n",
        " \n",
        "  model.add(ResnetModel)\n",
        " \n",
        "  model.add(Dropout(0.5))\n",
        "\n",
        "  cl=Dense(12,activation='softmax')\n",
        "  \n",
        "  model.add(cl)\n",
        "\n",
        "  d=keras.optimizers.SGD(lr=0.001)\n",
        "  \n",
        "  model.compile(loss='sparse_categorical_crossentropy',optimizer=d,metrics=['accuracy'])\n",
        "\n",
        "  logdir = os.path.join(\"logs\", datetime.datetime.now().strftime(\"%Y%m%d-%H%M%S\"))\n",
        "  tensorboard_callback = keras.callbacks.TensorBoard(logdir, histogram_freq=1)\n",
        "  \n",
        "  hist = model.fit(X_train, Y_train, batch_size=32, epochs=4, verbose=1, callbacks=[tensorboard_callback])\n",
        "  \n",
        "  (loss, accuracy) = model.evaluate(X_Test, Y_Test, batch_size=32, verbose=1)\n",
        "  \n",
        "  print(\"[INFO] loss={:.4f}, accuracy: {:.4f}%\".format(loss,accuracy * 100))\n",
        "  pathnew = '/content/drive/My Drive/lastrun'+str(loopnum)+'.csv'\n",
        "  with open (pathnew , 'w') as f:\n",
        "    f.write('name\\n')\n",
        "  with open (pathnew , 'a') as f:\n",
        "    for u in N_test :\n",
        "      f.write('{}\\n'.format(u))\n",
        "  return model \n",
        "def RwadTestData():\n",
        "  path='/content/drive/My Drive/newdata/datasetall'\n",
        "  pathtestonly = '/content/drive/My Drive/epochnumber2.csv'\n",
        "  result = pd.read_csv(pathtestonly)\n",
        "  data = result['name']\n",
        "  X = []\n",
        "  Y = []\n",
        "  samples = []\n",
        "  for image in tqdm(os.listdir(path)):\n",
        "    if image in data.values :    \n",
        "      image_path = os.path.join(path,image)\n",
        "      img = cv2.imread(image_path)\n",
        "      sizeNew = 224,224 \n",
        "      resized = cv2.resize(img,sizeNew)\n",
        "      if 'AN' in image :\n",
        "        Y.append(0)\n",
        "      elif 'CN' in image :\n",
        "        Y.append(1)\n",
        "      elif 'SN' in image :\n",
        "        Y.append(2)\n",
        "      elif 'AG' in image :\n",
        "        Y.append(3)\n",
        "      elif 'CG' in image :\n",
        "        Y.append(4)\n",
        "      elif 'SG' in image :\n",
        "        Y.append(5)\n",
        "      elif 'AM' in image :\n",
        "        Y.append(6)\n",
        "      elif 'CM' in image :\n",
        "        Y.append(7)\n",
        "      elif 'SM' in image :\n",
        "        Y.append(8)\n",
        "      elif 'AP' in image :\n",
        "        Y.append(9)\n",
        "      elif 'CP' in image :\n",
        "        Y.append(10)\n",
        "      elif 'SP' in image :\n",
        "        Y.append(11)\n",
        "      X.append(np.array(resized))  \n",
        "  return X,Y   \n",
        "\n",
        "'''\n",
        "if os.path.exists('/content/drive/My Drive/Final_test _ata/BrainCancerModel2.h5') :\n",
        "   model = keras.models.load_model('/content/drive/My Drive/Final_test _ata/BrainCancerModel2.h5')\n",
        "   d=keras.optimizers.SGD(lr=0.001)\n",
        "   model.compile(loss='sparse_categorical_crossentropy',optimizer=d,metrics=['accuracy'])\n",
        "   model.load_weights('/content/drive/My Drive/Final_test _ata/BrainCancerModel2.h5') \n",
        "  \n",
        "   x,y = RwadTestData()\n",
        "   x=np.array(x)\n",
        "   y=np.array(y)\n",
        "   (loss, accuracy) = model.evaluate(x, y, batch_size=32, verbose=1)\n",
        "  \n",
        "   print(\"[INFO] loss={:.4f}, accuracy: {:.4f}%\".format(loss,accuracy * 100))\n",
        " \n",
        "   preds = model.predict(x)\n",
        "   y_classes = preds.argmax(axis=-1)  \n",
        "   temp = sum(y == y_classes)\n",
        "\n",
        "   temp = temp/len(y)\n",
        "   temp *=100\n",
        "   print (temp)\n",
        "    '''\n",
        "\n",
        "for i in range(5):\n",
        "  ResnetFunc(i)"
      ],
      "execution_count": null,
      "outputs": [
        {
          "output_type": "stream",
          "text": [
            "100%|██████████| 4959/4959 [25:48<00:00,  3.20it/s]\n"
          ],
          "name": "stderr"
        },
        {
          "output_type": "stream",
          "text": [
            "Downloading data from https://storage.googleapis.com/tensorflow/keras-applications/resnet/resnet50_weights_tf_dim_ordering_tf_kernels_notop.h5\n",
            "94773248/94765736 [==============================] - 0s 0us/step\n",
            "Epoch 1/4\n",
            "139/139 [==============================] - 54s 309ms/step - loss: 1.2227 - accuracy: 0.7566\n",
            "Epoch 2/4\n",
            "139/139 [==============================] - 44s 316ms/step - loss: 0.0888 - accuracy: 0.9697\n",
            "Epoch 3/4\n",
            "139/139 [==============================] - 47s 335ms/step - loss: 0.0219 - accuracy: 0.9927\n",
            "Epoch 4/4\n",
            "139/139 [==============================] - 49s 354ms/step - loss: 0.0133 - accuracy: 0.9951\n",
            "52/52 [==============================] - 7s 112ms/step - loss: 0.0943 - accuracy: 0.9713\n",
            "[INFO] loss=0.0943, accuracy: 97.1289%\n"
          ],
          "name": "stdout"
        },
        {
          "output_type": "stream",
          "text": [
            "100%|██████████| 4959/4959 [00:17<00:00, 279.56it/s]\n"
          ],
          "name": "stderr"
        },
        {
          "output_type": "stream",
          "text": [
            "Epoch 1/4\n",
            "139/139 [==============================] - 54s 365ms/step - loss: 1.2130 - accuracy: 0.7633\n",
            "Epoch 2/4\n",
            "139/139 [==============================] - 49s 351ms/step - loss: 0.1052 - accuracy: 0.9680\n",
            "Epoch 3/4\n",
            "139/139 [==============================] - 50s 357ms/step - loss: 0.0427 - accuracy: 0.9848\n",
            "Epoch 4/4\n",
            "139/139 [==============================] - 49s 355ms/step - loss: 0.0190 - accuracy: 0.9931\n",
            "52/52 [==============================] - 7s 109ms/step - loss: 0.1093 - accuracy: 0.9676\n",
            "[INFO] loss=0.1093, accuracy: 96.7624%\n"
          ],
          "name": "stdout"
        },
        {
          "output_type": "stream",
          "text": [
            "100%|██████████| 4959/4959 [00:17<00:00, 288.96it/s]\n"
          ],
          "name": "stderr"
        },
        {
          "output_type": "stream",
          "text": [
            "Epoch 1/4\n",
            "139/139 [==============================] - 54s 369ms/step - loss: 1.1999 - accuracy: 0.7656\n",
            "Epoch 2/4\n",
            "139/139 [==============================] - 49s 352ms/step - loss: 0.0979 - accuracy: 0.9712\n",
            "Epoch 3/4\n",
            "139/139 [==============================] - 50s 357ms/step - loss: 0.0348 - accuracy: 0.9891\n",
            "Epoch 4/4\n",
            "139/139 [==============================] - 49s 354ms/step - loss: 0.0227 - accuracy: 0.9910\n",
            "52/52 [==============================] - 6s 108ms/step - loss: 0.1476 - accuracy: 0.9603\n",
            "[INFO] loss=0.1476, accuracy: 96.0293%\n"
          ],
          "name": "stdout"
        },
        {
          "output_type": "stream",
          "text": [
            "100%|██████████| 4959/4959 [00:17<00:00, 290.97it/s]\n"
          ],
          "name": "stderr"
        },
        {
          "output_type": "stream",
          "text": [
            "Epoch 1/4\n",
            "139/139 [==============================] - 54s 366ms/step - loss: 1.0769 - accuracy: 0.7730\n",
            "Epoch 2/4\n",
            "139/139 [==============================] - 49s 353ms/step - loss: 0.1096 - accuracy: 0.9668\n",
            "Epoch 3/4\n",
            "139/139 [==============================] - 50s 357ms/step - loss: 0.0413 - accuracy: 0.9863\n",
            "Epoch 4/4\n",
            "139/139 [==============================] - 50s 356ms/step - loss: 0.0141 - accuracy: 0.9948\n",
            "52/52 [==============================] - 6s 108ms/step - loss: 0.1239 - accuracy: 0.9664\n",
            "[INFO] loss=0.1239, accuracy: 96.6402%\n"
          ],
          "name": "stdout"
        },
        {
          "output_type": "stream",
          "text": [
            "100%|██████████| 4959/4959 [00:17<00:00, 284.78it/s]\n"
          ],
          "name": "stderr"
        },
        {
          "output_type": "stream",
          "text": [
            "Epoch 1/4\n",
            "139/139 [==============================] - 55s 366ms/step - loss: 1.4286 - accuracy: 0.7478\n",
            "Epoch 2/4\n",
            "139/139 [==============================] - 49s 352ms/step - loss: 0.1098 - accuracy: 0.9658\n",
            "Epoch 3/4\n",
            "139/139 [==============================] - 49s 355ms/step - loss: 0.0307 - accuracy: 0.9892\n",
            "Epoch 4/4\n",
            "139/139 [==============================] - 49s 354ms/step - loss: 0.0314 - accuracy: 0.9876\n",
            "52/52 [==============================] - 6s 107ms/step - loss: 0.2344 - accuracy: 0.9536\n",
            "[INFO] loss=0.2344, accuracy: 95.3574%\n"
          ],
          "name": "stdout"
        }
      ]
    },
    {
      "cell_type": "code",
      "metadata": {
        "id": "hvcJzLTlewlP"
      },
      "source": [
        "! curl -s http://localhost:4040/api/tunnels | python3 -c \\"
      ],
      "execution_count": null,
      "outputs": []
    }
  ]
}